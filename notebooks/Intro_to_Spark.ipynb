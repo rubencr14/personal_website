{
 "cells": [
  {
   "cell_type": "markdown",
   "metadata": {},
   "source": [
    "<div style=\"font-size: 60px; font-weight:bold; margin:20px; margin-bottom:100px; text-align: justify; text-shadow: 1px 1px 1px #919191,\n",
    "        1px 2px 1px #919191,\n",
    "        1px 3px 1px #919191,\n",
    "        1px 4px 1px #919191,\n",
    "        1px 5px 1px #919191,\n",
    "        1px 6px 1px #919191,\n",
    "        1px 7px 1px #919191,\n",
    "        1px 8px 1px #919191,\n",
    "        1px 9px 1px #919191,\n",
    "        1px 10px 1px #919191,\n",
    "    1px 18px 6px rgba(16,16,16,0.4),\n",
    "    1px 22px 10px rgba(16,16,16,0.2),\n",
    "    1px 25px 35px rgba(16,16,16,0.2),\n",
    "    1px 30px 60px rgba(16,16,16,0.4)\"> INTRODUCTION TO SPARK </div>\n",
    "    <div style=\"font-style: italic; font-weight: bold; font-size:35px; text-align:center; font-family: Garamond\">by Rubén Cañadas Rodríguez</div>\n",
    "    \n",
    "<div style=\"font-size: 30px; margin: 20px; margin-bottom: 40px; margin-left: 0px; line-height: 40pt\">\n",
    "\n",
    "<div style=\"font-size: 30px; font-family: Garamond; font-weight: bold; margin: 30px; margin-left: 0px; margin-bottom: 10px; \">Contents</div>\n",
    "<ol>\n",
    "<li>Introduction</li>\n",
    "<li>Spark</li>\n",
    "<li>SparkSQL</li> \n",
    "<li>Conclusions</li> \n",
    "</ol>\n",
    "</div>\n",
    "\n",
    "\n",
    "<div style=\"font-size: 30px; font-weight: bold; margin-bottom: 20px; margin-top: 30px\"> Introduction </div>\n",
    "<div style=\"text-align:justify; font-family: Garamond; font-size:20px; margin: 20px; margin-left: 0px; line-height: 24pt\">\n",
    "Spark is a fast and general engine for large-scale data preprocessing. It can be used on the HDFS (Hadoop Distributed FileSystem) or others such as the S3 filesystem from Amazon. Its structure allows it to be highly scalable. It is 100X faster thatn Hadoop MapReduce in memory and 10X faster in disk. This is due to the DAG engine (Directed Acyclic Graph). It constructs a graph and computes the most optimal way to give the desired results. All this allows to perform several actions in huge datasets using distributed computing, for example, data processing, machine learning or graph-based methods. This is an introductory tutorial of Spark. The intention is to give the user a basic knowledge of the core parts of Spark and how to perform several transformations and actions. Also, MMLIB will be used which is a machine learning framework built upon the core Spark. Thanks to this, machine learning can be used in a high efficiency way with enormouse and distributed datasets.\n",
    "</div>\n",
    "<div style=\"font-size: 30px; font-weight: bold; margin-bottom: 20px; margin-top: 30px\"> Spark </div>\n",
    "<div style=\"text-align:justify; font-family: Garamond; font-size:20px; margin: 20px; margin-left: 0px; line-height: 24pt\">\n",
    "Spark uses RDD (Resilient Distributed Dataset) objects to perform all its magic. RDDs can be thought as those objects containing the datasets giving some important properties: Resilience which means that if for any reason a node goes down it can be recovered from failure. Also, it is distributed meaning that distributed data in HDFS, S3 or others can be used and actions are carried out in a distributed way. In this introductory tutorial of Spark we will give\n",
    "some examples of how Spark can be utilized. For this propose we will be using pyspark from Python. However, \n",
    "in more advanced tutorials, Scala, which is its native lanaguage will be used, since it gives much better performance and it is really really important in Big Data since we work with huge datasets!<br>\n",
    "Let us first start by importing packages and modules\n",
    "\n",
    "</div>\n"
   ]
  },
  {
   "cell_type": "code",
   "execution_count": 1,
   "metadata": {},
   "outputs": [
    {
     "name": "stdout",
     "output_type": "stream",
     "text": [
      "Using pyspark version: 2.4.3\n"
     ]
    }
   ],
   "source": [
    "import pyspark\n",
    "from pyspark.sql import SparkSession, SQLContext\n",
    "from pyspark.ml.recommendation import ALS\n",
    "from pyspark.sql import Row\n",
    "from pyspark.sql.functions import lit\n",
    "from pyspark import SparkContext, SparkConf\n",
    "import matplotlib.pyplot as plt\n",
    "import seaborn as sns\n",
    "import sys\n",
    "import numpy as np\n",
    "%matplotlib inline\n",
    "\n",
    "\"\"\"\n",
    "INFO: pyspark works with java 8 so export it before running the notebook\n",
    "export JAVA_HOME=$(/usr/libexec/java_home -v 1.8)\n",
    "you can added it on ~/.bashrc\n",
    "\"\"\"\n",
    "print(\"Using pyspark version: {}\".format(pyspark.__version__))\n"
   ]
  },
  {
   "cell_type": "markdown",
   "metadata": {},
   "source": [
    "<div style=\"text-align:justify; font-family: Garamond; font-size:20px; margin: 20px; margin-left: 0px; line-height: 24pt\">\n",
    "Before starting to work with datasets we need to create a Context and the RDD object. The Context is what allows the driver program to acces to the cluster manager (Spark, YARN, Mesos...) and the executors. In the following figure an overall idea of this is given:\n",
    "    \n",
    "<img src=\"images/spark_conf.png\" width=\"800\" style=\"padding: 15px\">\n",
    "\n",
    "The config object saves the configuration (name of the app running and where it has to be executed) given to the Context. If once the context is running, if another has to be created, the former has to be stopped: sc.stop()<br>\n",
    "Now let us work a play a little bit wirh RDDs. First of all, we need to download some dataset, for instance the\n",
    "<a target=\"_blank\" href=\"https://grouplens.org/datasets/movielens/\" style=\"text-decoration: none\">MovieLens</a> dataset. \n",
    "    \n",
    "</div>"
   ]
  },
  {
   "cell_type": "code",
   "execution_count": 2,
   "metadata": {},
   "outputs": [],
   "source": [
    "class SparkUtilities(object):\n",
    "\n",
    "    def __init__(self, file_name):\n",
    "\n",
    "        self._file_name = file_name\n",
    "        self.conf = SparkConf().setAppName(\"spark_app\").setMaster(\"local\")\n",
    "        self.sc = SparkContext(conf=self.conf).getOrCreate()\n",
    "\n",
    "    @staticmethod\n",
    "    def parse_file(file, index_1=0, index_2=1, delimiter=\"|\"):\n",
    "        movie_names = []\n",
    "        infile = open(file, \"r\", encoding=\"utf8\", errors=\"ignore\")\n",
    "        for line in infile:\n",
    "            fields = line.split(delimiter)\n",
    "            movie_names.append((fields[index_1], fields[index_2]))\n",
    "        return movie_names"
   ]
  },
  {
   "cell_type": "code",
   "execution_count": 3,
   "metadata": {},
   "outputs": [
    {
     "data": {
      "image/png": "[encoded data removed]",
      "text/plain": [
       "<Figure size 1440x720 with 1 Axes>"
      ]
     },
     "metadata": {
      "needs_background": "light"
     },
     "output_type": "display_data"
    }
   ],
   "source": [
    "class AverageMovieDataset(SparkUtilities):\n",
    "    \n",
    "    def __init__(self, file_name):\n",
    "        super(AverageMovieDataset, self).__init__(file_name)\n",
    "    \n",
    "    def _compute_average(self):\n",
    "        \n",
    "        rdd = self.sc.textFile(self._file_name).map(lambda x: (x.split(\"\\t\"))).map(lambda x: (x[1], x[2])) # (movieID, rating) tuple\n",
    "        rdd = rdd.mapValues(lambda x: (int(x), 1)).sortByKey()\n",
    "        rdd = rdd.reduceByKey(lambda a, b : (a[0]+b[0], a[1]+b[1])).sortByKey() # a is the first value and b the second value\n",
    "        rdd = rdd.mapValues(lambda a: float(a[0] / a[1])) #Computing averages\n",
    "        return rdd\n",
    "    \n",
    "        print(\"RDD computed, showing 5 samples.. \\n {}\".format(rdd.take(5)))\n",
    "        \n",
    "              \n",
    "    def _compute_average_rating(self, plot=True):\n",
    "              \n",
    "        rdd = self._compute_average()\n",
    "        rdd_names = self.sc.parallelize(SparkUtilities.parse_file(file=\"ml-100k/u.item\"))\n",
    "        rdd_joined = rdd_names.join(rdd)\n",
    "        if plot:\n",
    "            self._plot_results(rdd_joined)\n",
    "\n",
    "              \n",
    "    def _plot_results(self, rdd_to_plot):\n",
    "        \n",
    "        names = []\n",
    "        rating = []\n",
    "        for elem in rdd_to_plot.collect(): #collect allows to make the RDD iterable!\n",
    "            names.append(elem[1][0])\n",
    "            rating.append(elem[1][1])\n",
    "        plt.figure(figsize=(20,10)) #size of the figure!\n",
    "        sns.barplot(names[:5], rating[:5]) #Only the first five since there is lots of information!\n",
    "        plt.show()\n",
    "\n",
    "        \n",
    "movies = AverageMovieDataset(file_name=\"ml-100k/u.data\")\n",
    "movies._compute_average_rating()"
   ]
  },
  {
   "cell_type": "markdown",
   "metadata": {},
   "source": [
    "<div style=\"text-align:justify; font-family: Garamond; font-size:20px; margin: 20px; margin-left: 0px; line-height: 24pt\">\n",
    "    <strong>NOW IT IS YOUR TURN! </strong>I propose a similar exercise in order to test yourself. What if we wanted to know the average ratings per each job? Each user has a job in the u.user file, and the question is if depending on the job the ratings change. Sort the results by the job name! <strong>GOOD LUCK!</strong>\n",
    "</div>"
   ]
  },
  {
   "cell_type": "code",
   "execution_count": 3,
   "metadata": {},
   "outputs": [
    {
     "data": {
      "image/png": "[encoded data removed]",
      "text/plain": [
       "<Figure size 1440x720 with 1 Axes>"
      ]
     },
     "metadata": {
      "needs_background": "light"
     },
     "output_type": "display_data"
    }
   ],
   "source": [
    "class ProposedExercise(SparkUtilities):\n",
    "    \n",
    "    def __init__(self, file_name):\n",
    "        super(ProposedExercise, self).__init__(file_name)\n",
    "        \n",
    "    def compute_average_per_jobs(self, plot=True):\n",
    "        \n",
    "        rdd = self.sc.textFile(self._file_name).map(lambda x: (x.split(\"\\t\"))).map(lambda x: (x[0], x[2])) # (userID, rating)\n",
    "        rdd_names = self.sc.parallelize(SparkUtilities.parse_file(file=\"ml-100k/u.user\", index_1=0, index_2=3))\n",
    "        rdd = rdd_names.join(rdd)\n",
    "        rdd = rdd.map(lambda x: (x[1][0], x[1][1])).mapValues(lambda x: (int(x),1)).reduceByKey(lambda x,y: (x[0]+y[0], x[1]+y[1]))\n",
    "        rdd = rdd.mapValues(lambda x: float(x[0]/x[1])).sortByKey()\n",
    "        if plot:\n",
    "            self._plot_results(rdd)\n",
    "        \n",
    "    def _plot_results(self, rdd_to_plot):\n",
    "        \n",
    "        jobs = []\n",
    "        rating = []\n",
    "        for elem in rdd_to_plot.collect(): #collect allows to make the RDD iterable!\n",
    "            jobs.append(elem[0])\n",
    "            rating.append(elem[1])\n",
    "        plt.figure(figsize=(20,10)) #size of the figure!\n",
    "        sns.barplot(jobs[:21], rating[:21]) #Only the first five since there is lots of information!\n",
    "        plt.show()\n",
    "\n",
    "exercise = ProposedExercise(file_name=\"ml-100k/u.data\")\n",
    "exercise.compute_average_per_jobs()"
   ]
  },
  {
   "cell_type": "markdown",
   "metadata": {},
   "source": [
    "<div style=\"text-align:justify; font-family: Garamond; font-size:20px; margin: 20px; margin-left: 0px; line-height: 24pt\">\n",
    "So far we have seen how to create RDDs from files and how to use transformations and actions on RDDs in order to obtain informative results out of a dataset, in this case from movies. From Spark 2.0 there is an option that is to create dataframes which are built upon RDDs. Using this dataframes we can apply several methods on them. Later, we will see how we can use SQL queries in order to make data analysis even easier! <br>\n",
    "In this case we create a Spark Session which will automatically create the Context. The getOrCreate() methods allows to recover the RDDs that have failed due to problems in nodes. Then we parse the file and create the dataframe. The cache() method is called in order not to create the dataframe over and over again. Once the dataframe has been created several methods such as filter, count, select or map can be applied to it. In RDDs we use the take() action in order to compute the most optimal path in the graph and show the results. In dataframes, to check the results we use the show() method.\n",
    "</div>"
   ]
  },
  {
   "cell_type": "code",
   "execution_count": 4,
   "metadata": {},
   "outputs": [
    {
     "name": "stdout",
     "output_type": "stream",
     "text": [
      "+-------+------+------+\n",
      "|movieID|rating|userID|\n",
      "+-------+------+------+\n",
      "|     95|   5.0|    38|\n",
      "|    277|   4.0|    63|\n",
      "|     32|   4.0|     7|\n",
      "|     16|   4.0|    10|\n",
      "|      4|   5.0|    99|\n",
      "|    181|   5.0|    25|\n",
      "|    196|   5.0|    59|\n",
      "|    384|   4.0|    87|\n",
      "|    423|   5.0|    42|\n",
      "|    427|   5.0|    60|\n",
      "|    304|   5.0|    57|\n",
      "|    111|   4.0|    11|\n",
      "|    625|   4.0|    95|\n",
      "|    338|   4.0|     8|\n",
      "|   1016|   4.0|    87|\n",
      "|    498|   4.0|    62|\n",
      "|    209|   4.0|    28|\n",
      "|    382|   5.0|    90|\n",
      "|     96|   5.0|    42|\n",
      "|    144|   4.0|    58|\n",
      "+-------+------+------+\n",
      "only showing top 20 rows\n",
      "\n"
     ]
    }
   ],
   "source": [
    "\n",
    "file_name = \"ml-100k/u.item\"   \n",
    "\n",
    "def load_dataset():\n",
    "    \n",
    "    \"\"\"\n",
    "    This method opens u.item and returns the movie title as key and its ID as value (key-value pairs)\n",
    "    \"\"\"\n",
    "    movie_names = {}\n",
    "    infile = open(file_name, \"r\", encoding=\"utf8\", errors=\"ignore\")\n",
    "    for line in infile:\n",
    "        fields = line.split(\"|\")\n",
    "        movie_names[int(fields[0])] = fields[1]\n",
    "\n",
    "    return movie_names\n",
    "\n",
    "def parse_input(line):\n",
    "    \n",
    "    \n",
    "    \"\"\"\n",
    "    This method returns (UserID, MovieID, Ratings) from u.data, we need u.item to match movie ID and movie Title\n",
    "    \"\"\"\n",
    "    \n",
    "    fields = line.value.split()\n",
    "    print(\"fields \", fields)\n",
    "    return Row(userID = int(fields[0]), movieID = int(fields[1]), rating = float(fields[2])) #Names of the  columns!!!\n",
    "    \n",
    "\n",
    "spark = SparkSession.builder.appName(\"first_spark\").getOrCreate() #Get or create for recoveries\n",
    "lines = spark.read.text(\"ml-100k/u.data\").rdd #Converting to rdd object\n",
    "\n",
    "#Lets parse it!\n",
    "ratingsRDD = lines.map(parse_input)\n",
    "#Convert it to dataframe and cache it not to be building it several times!\n",
    "ratings = spark.createDataFrame(ratingsRDD).cache()\n",
    "#ratings.select(\"movieID\").show()\n",
    "ratings.select(\"userID\").count()\n",
    "ratings.filter(ratings.rating > 3).filter(ratings.userID < 100).show()\n",
    "\n"
   ]
  },
  {
   "cell_type": "markdown",
   "metadata": {},
   "source": [
    "<div style=\"font-size: 30px; font-weight: bold; margin-bottom: 20px; margin-top: 30px\"> SparkSQL </div>\n",
    "<div style=\"text-align:justify; font-family: Garamond; font-size:20px; margin: 20px; margin-left: 0px; line-height: 24pt\">\n",
    "We DataFrame objects in order to obtain valuable information of our dataset. However we can make it easier by using SQL queries as we were working with a relational database! In the following section we will learn how to create a view for using SQL queries and we will see some examples of how to work with it!\n",
    "</div>"
   ]
  },
  {
   "cell_type": "code",
   "execution_count": 5,
   "metadata": {},
   "outputs": [
    {
     "name": "stdout",
     "output_type": "stream",
     "text": [
      "+-------+---------+\n",
      "|movieID|rateCount|\n",
      "+-------+---------+\n",
      "|   1653|        5|\n",
      "|   1122|        5|\n",
      "|   1201|        5|\n",
      "|    814|        5|\n",
      "|   1536|        5|\n",
      "|   1189|        5|\n",
      "|   1599|        5|\n",
      "|   1500|        5|\n",
      "|   1293|        5|\n",
      "|   1467|        5|\n",
      "|   1505|        4|\n",
      "|     22|        4|\n",
      "|    187|        4|\n",
      "|   1526|        4|\n",
      "|    136|        4|\n",
      "|     98|        4|\n",
      "|    198|        4|\n",
      "|    427|        4|\n",
      "|    275|        4|\n",
      "|     57|        4|\n",
      "|    963|        4|\n",
      "|    496|        4|\n",
      "|    487|        4|\n",
      "|   1642|        4|\n",
      "|     50|        4|\n",
      "|   1064|        4|\n",
      "|    191|        4|\n",
      "|    190|        4|\n",
      "|   1537|        4|\n",
      "|    513|        4|\n",
      "+-------+---------+\n",
      "only showing top 30 rows\n",
      "\n"
     ]
    }
   ],
   "source": [
    "\"\"\" \n",
    "SELECTING MOVIES ID AND AVERAGING THE RATING STARS, THEN CREATING A NEW COLUMNS WITH RATECOUNT AND ORDERING \n",
    "IN DESCENDING ORDER\n",
    "\"\"\"\n",
    "\n",
    "ratings.createOrReplaceTempView(\"df\") #Creating table to use using SQL queries\n",
    "spark.sql(\"SELECT movieID, FLOOR(AVG(rating)) as rateCount FROM df GROUP BY movieID ORDER BY rateCount DESC\").show(30)"
   ]
  },
  {
   "cell_type": "code",
   "execution_count": 6,
   "metadata": {},
   "outputs": [
    {
     "name": "stdout",
     "output_type": "stream",
     "text": [
      "+------+------+\n",
      "|userID|rating|\n",
      "+------+------+\n",
      "|   279|   1.0|\n",
      "|    78|   1.0|\n",
      "|   279|   1.0|\n",
      "|   112|   1.0|\n",
      "|   282|   1.0|\n",
      "|   104|   1.0|\n",
      "|   276|   1.0|\n",
      "|    38|   1.0|\n",
      "|   167|   1.0|\n",
      "|   269|   1.0|\n",
      "|   174|   1.0|\n",
      "|   181|   1.0|\n",
      "|   166|   1.0|\n",
      "|    99|   1.0|\n",
      "|    16|   1.0|\n",
      "|   181|   1.0|\n",
      "|   268|   1.0|\n",
      "|   128|   1.0|\n",
      "|   201|   1.0|\n",
      "|    94|   1.0|\n",
      "|   219|   1.0|\n",
      "|   129|   1.0|\n",
      "|   181|   1.0|\n",
      "|   181|   1.0|\n",
      "|    20|   1.0|\n",
      "|    21|   1.0|\n",
      "|    22|   1.0|\n",
      "|   181|   1.0|\n",
      "|   229|   1.0|\n",
      "|   181|   1.0|\n",
      "+------+------+\n",
      "only showing top 30 rows\n",
      "\n"
     ]
    }
   ],
   "source": [
    "spark.sql(\"SELECT userID, rating FROM df WHERE rating < 3 ORDER BY rating ASC\").show(30)"
   ]
  },
  {
   "cell_type": "code",
   "execution_count": 16,
   "metadata": {},
   "outputs": [
    {
     "name": "stdout",
     "output_type": "stream",
     "text": [
      "+------+----+\n",
      "|userID|rate|\n",
      "+------+----+\n",
      "|    26|   3|\n",
      "|    29|   4|\n",
      "|   474|   5|\n",
      "|   191|   4|\n",
      "|    65|   4|\n",
      "|   418|   3|\n",
      "|   541|   4|\n",
      "|   558|   5|\n",
      "|   293|   4|\n",
      "|   222|   4|\n",
      "|   270|   5|\n",
      "|   730|   4|\n",
      "|   938|   4|\n",
      "|   278|   5|\n",
      "|   243|   4|\n",
      "|   367|   5|\n",
      "|   442|   4|\n",
      "|   705|   4|\n",
      "|   720|   4|\n",
      "|    19|   4|\n",
      "|    54|   4|\n",
      "|   296|   5|\n",
      "|   926|   4|\n",
      "|   287|   5|\n",
      "|   277|   4|\n",
      "|   348|   4|\n",
      "|   415|   5|\n",
      "|   847|   4|\n",
      "|   502|   4|\n",
      "|   656|   3|\n",
      "+------+----+\n",
      "only showing top 30 rows\n",
      "\n"
     ]
    }
   ],
   "source": [
    "spark.sql(\"SELECT userID, CEIL(AVG(rating)) AS rate FROM df GROUP BY userID\").show(30)"
   ]
  },
  {
   "cell_type": "markdown",
   "metadata": {},
   "source": [
    "<div style=\"font-size: 30px; font-weight: bold; margin-bottom: 20px; margin-top: 30px\"> Conclusions </div>\n",
    "<div style=\"text-align:justify; font-family: Garamond; font-size:20px; margin: 20px; margin-left: 0px; line-height: 24pt\">\n",
    "In this introductory tutorial to Spark we have learned how to use it for extracting desired information of a certain dataset. we have revised how spark works internally and how we can use transformations and actions. Then, we have checked how we can use SparkSQL in order to obtain information of our datasat as if it was a relational dataset using SQL queries. This was only a introduction to Spark. Most advanced tutorials will be posted where instead of using Python, we will you Scala which is its native programming language and thus, the perfomance speed will increase considerably. We will also analysis other Spark frameworks built upon the Spark score for treating streaming data (straming Spark), using machine learning in a distributed way (MLLIB) and using graph-based methods (GraphX).    \n",
    "</div>"
   ]
  }
 ],
 "metadata": {
  "kernelspec": {
   "display_name": "Python 3",
   "language": "python",
   "name": "python3"
  },
  "language_info": {
   "codemirror_mode": {
    "name": "ipython",
    "version": 3
   },
   "file_extension": ".py",
   "mimetype": "text/x-python",
   "name": "python",
   "nbconvert_exporter": "python",
   "pygments_lexer": "ipython3",
   "version": "3.7.3"
  }
 },
 "nbformat": 4,
 "nbformat_minor": 2
}
